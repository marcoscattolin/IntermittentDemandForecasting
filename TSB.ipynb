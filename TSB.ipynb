{
 "cells": [
  {
   "cell_type": "code",
   "execution_count": 2,
   "id": "127a43e9",
   "metadata": {
    "ExecuteTime": {
     "end_time": "2022-03-17T11:19:27.147736Z",
     "start_time": "2022-03-17T11:19:27.132661Z"
    }
   },
   "outputs": [],
   "source": [
    "import numpy as np\n",
    "import pandas as pd\n",
    "from scipy.optimize import minimize"
   ]
  },
  {
   "cell_type": "code",
   "execution_count": 3,
   "id": "abd3208d",
   "metadata": {
    "ExecuteTime": {
     "end_time": "2022-03-17T11:19:27.177890Z",
     "start_time": "2022-03-17T11:19:27.149627Z"
    }
   },
   "outputs": [],
   "source": [
    "class TSBModel:\n",
    "    \n",
    "    \n",
    "    def __init__(self, alpha = .1, beta = .1):\n",
    "        self.alpha = alpha\n",
    "        self.beta = beta\n",
    "        self.fitted = False\n",
    "    \n",
    "    def fit(self, x):\n",
    "        \n",
    "        def _tsb(params):\n",
    "    \n",
    "            alpha, beta = params\n",
    "\n",
    "            x = self.data\n",
    "\n",
    "            # serie della domanda\n",
    "            demand = x.copy()\n",
    "            demand.loc[demand == 0] = np.nan\n",
    "            demand = demand.ffill()\n",
    "            demand = demand.fillna(0)\n",
    "\n",
    "            # serie di intervalli\n",
    "            intervals = [1]\n",
    "            for t in range(1, len(x)):\n",
    "                if x[t-1] != 0:\n",
    "                    intervals.append(1)\n",
    "                else:\n",
    "                    intervals.append(1 + intervals[t-1])\n",
    "            intervals = np.array(intervals, dtype='float')\n",
    "\n",
    "            # periodicity\n",
    "            peridocity = 1/intervals\n",
    "\n",
    "\n",
    "            # prima osservazione\n",
    "            initial_obs = np.argmax(x != 0)\n",
    "            smoothed_demand    = [demand[initial_obs]]\n",
    "            smoothed_periodicity = [peridocity[0] if demand[0] != 0 else 0]\n",
    "\n",
    "            # forecast placeholder\n",
    "            fitted_values = [None]\n",
    "\n",
    "            # exponential smoothing of demand and periodicity\n",
    "            for t in range(len(x)):\n",
    "                if x[t] == 0:\n",
    "                    smoothed_demand.append(smoothed_demand[-1])\n",
    "\n",
    "                    sp = (beta  * 0) + ((1-beta) * smoothed_periodicity[-1])\n",
    "                    smoothed_periodicity.append(sp)\n",
    "\n",
    "\n",
    "                else:\n",
    "                    sd = (alpha * demand[t]) + ((1-alpha) * smoothed_demand[-1])\n",
    "                    smoothed_demand.append(sd)\n",
    "\n",
    "                    sp = (beta  * 1) + ((1-beta) * smoothed_periodicity[-1])\n",
    "                    smoothed_periodicity.append(sp)\n",
    "\n",
    "                if demand[t] > 0:\n",
    "                    fitted_values.append(smoothed_demand[-1] * smoothed_periodicity[-1])\n",
    "                else:\n",
    "                    fitted_values.append(0)\n",
    "\n",
    "            # forecast and fitted values\n",
    "            fitted_values  = np.array(fitted_values, dtype = 'float')\n",
    "            forecast = fitted_values[-1]\n",
    "            fitted_values = fitted_values[:-1]\n",
    "\n",
    "            # rmse\n",
    "            error = x-fitted_values\n",
    "            rmse = np.sqrt((error**2).mean())\n",
    "\n",
    "            # save into object\n",
    "            self.forecast = forecast\n",
    "            self.fitted_values = fitted_values\n",
    "            self.residuals = error\n",
    "            self.rmse = rmse\n",
    "\n",
    "            return rmse\n",
    "    \n",
    "        self.data = x\n",
    "        fitted = minimize(_tsb, x0=[.1, .1], bounds=[(0, 1), (0, 1)])\n",
    "        self.alpha = fitted.x[0]\n",
    "        self.beta = fitted.x[1]\n",
    "        self.fitted = True\n",
    "        \n",
    "        # last pass to store final optimal values\n",
    "        _tsb([self.alpha, self.beta])\n",
    "        \n",
    "        return self\n",
    "    \n",
    "    def predict(self, h=10):\n",
    "        return np.array([self.forecast]*h)"
   ]
  },
  {
   "cell_type": "code",
   "execution_count": 4,
   "id": "fe6a27da",
   "metadata": {
    "ExecuteTime": {
     "end_time": "2022-03-17T11:19:27.473756Z",
     "start_time": "2022-03-17T11:19:27.179570Z"
    }
   },
   "outputs": [],
   "source": [
    "# load sample data\n",
    "df = (\n",
    "    pd.read_excel('data.xlsx')\n",
    "    .set_index('date')\n",
    "    .resample('M')\n",
    "    .sum()\n",
    ")"
   ]
  },
  {
   "cell_type": "code",
   "execution_count": 10,
   "id": "d7543edf",
   "metadata": {
    "ExecuteTime": {
     "end_time": "2022-03-17T11:21:11.595445Z",
     "start_time": "2022-03-17T11:21:11.536456Z"
    }
   },
   "outputs": [
    {
     "name": "stdout",
     "output_type": "stream",
     "text": [
      "Forecast: 0.5974256451942589\n",
      "Fitted alpha: 0.0\n",
      "Fitted beta: 0.17322741462632069\n"
     ]
    }
   ],
   "source": [
    "# fit model\n",
    "model = TSBModel().fit(df['sales'])\n",
    "\n",
    "print(f'Forecast: {model.forecast}')\n",
    "print(f'Fitted alpha: {model.alpha}')\n",
    "print(f'Fitted beta: {model.beta}')"
   ]
  },
  {
   "cell_type": "code",
   "execution_count": 14,
   "id": "e405827c",
   "metadata": {
    "ExecuteTime": {
     "end_time": "2022-03-17T11:21:55.498605Z",
     "start_time": "2022-03-17T11:21:55.292664Z"
    }
   },
   "outputs": [
    {
     "data": {
      "image/png": "[encoded data removed]",
      "text/plain": [
       "<Figure size 432x288 with 1 Axes>"
      ]
     },
     "metadata": {
      "needs_background": "light"
     },
     "output_type": "display_data"
    }
   ],
   "source": [
    "# forecast\n",
    "horizon = 10\n",
    "fcast_df = pd.DataFrame(index = pd.date_range(df.index[-1], periods=horizon, freq=df.index.freq))\n",
    "fcast_df['TSB Forecast'] = model.forecast\n",
    "\n",
    "# plot\n",
    "pd.concat([df, fcast_df]).plot();"
   ]
  }
 ],
 "metadata": {
  "kernelspec": {
   "display_name": "Python 3 (ipykernel)",
   "language": "python",
   "name": "python3"
  },
  "language_info": {
   "codemirror_mode": {
    "name": "ipython",
    "version": 3
   },
   "file_extension": ".py",
   "mimetype": "text/x-python",
   "name": "python",
   "nbconvert_exporter": "python",
   "pygments_lexer": "ipython3",
   "version": "3.8.12"
  },
  "toc": {
   "base_numbering": 1,
   "nav_menu": {},
   "number_sections": true,
   "sideBar": true,
   "skip_h1_title": false,
   "title_cell": "Table of Contents",
   "title_sidebar": "Contents",
   "toc_cell": false,
   "toc_position": {},
   "toc_section_display": true,
   "toc_window_display": false
  },
  "varInspector": {
   "cols": {
    "lenName": 16,
    "lenType": 16,
    "lenVar": 40
   },
   "kernels_config": {
    "python": {
     "delete_cmd_postfix": "",
     "delete_cmd_prefix": "del ",
     "library": "var_list.py",
     "varRefreshCmd": "print(var_dic_list())"
    },
    "r": {
     "delete_cmd_postfix": ") ",
     "delete_cmd_prefix": "rm(",
     "library": "var_list.r",
     "varRefreshCmd": "cat(var_dic_list()) "
    }
   },
   "types_to_exclude": [
    "module",
    "function",
    "builtin_function_or_method",
    "instance",
    "_Feature"
   ],
   "window_display": false
  }
 },
 "nbformat": 4,
 "nbformat_minor": 5
}
